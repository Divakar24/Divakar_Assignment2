{
 "cells": [
  {
   "cell_type": "code",
   "execution_count": 1,
   "id": "1d4ac3c9",
   "metadata": {
    "pycharm": {
     "is_executing": true
    }
   },
   "outputs": [
    {
     "name": "stdout",
     "output_type": "stream",
     "text": [
      "Enter number of rows:5\n",
      "* \n",
      "* * \n",
      "* * * \n",
      "* * * * \n",
      "* * * * * \n",
      "* * * * \n",
      "* * * \n",
      "* * \n",
      "* \n"
     ]
    }
   ],
   "source": [
    "rows = int(input(\"Enter number of rows:\")) # taking the number of rows from the user\n",
    "for i in range(1, rows+1): # for loop for the 1st half of the output\n",
    "    for j in range(1, i + 1): #Increasing the j value to the length provided by the user\n",
    "        print(\"*\", end=' ') # print the * .after print ending it with white space\n",
    "    print()  # for the next line\n",
    "\n",
    "for i in range(rows, 1, -1): #for loop for the 2nd half. i ranging its values from top(row) to bottom(1)\n",
    "    for j in range(1, i): # incresing the j value from 1 to j\n",
    "        print(\"*\", end=' ') #print the * .after print ending it with white space\n",
    "    print()"
   ]
  },
  {
   "cell_type": "code",
   "execution_count": 46,
   "id": "df742ecc",
   "metadata": {},
   "outputs": [
    {
     "name": "stdout",
     "output_type": "stream",
     "text": [
      "10\n",
      "30\n",
      "50\n",
      "70\n",
      "90\n"
     ]
    }
   ],
   "source": [
    "my_list = [10, 20, 30, 40, 50, 60, 70, 80, 90, 100] #list\n",
    "l=len(my_list)              # length of the list\n",
    "for i in range(0,l):        # i ranging its values from 0 to the length of the list\n",
    "    if i%2==0:              # modulus operator\n",
    "        print(my_list[i])   # printing"
   ]
  },
  {
   "cell_type": "code",
   "execution_count": 47,
   "id": "fd88ac2e",
   "metadata": {},
   "outputs": [
    {
     "name": "stdout",
     "output_type": "stream",
     "text": [
      "[<class 'int'>, <class 'str'>, <class 'float'>]\n"
     ]
    }
   ],
   "source": [
    "x = [23, 'Python', 23.98] \n",
    "new=[]                    #creating new list\n",
    "for i in x:               # for loop in each iteration i holds the values of the respective index values in the list\n",
    "    new.append(type(i))   # appending the type of the list elements in the new list. type method\n",
    "print(new)\n"
   ]
  },
  {
   "cell_type": "code",
   "execution_count": 48,
   "id": "b0151514",
   "metadata": {},
   "outputs": [
    {
     "name": "stdout",
     "output_type": "stream",
     "text": [
      "Enter a list of numbers: 1,1,2,3,3,4,5\n",
      "Sample List:  [1, 1, 2, 3, 3, 4, 5]\n",
      "Unique List:  [1, 2, 3, 4, 5]\n"
     ]
    }
   ],
   "source": [
    "def unique_list(lst):               #defining the function and taking argument as list\n",
    "    return list(set(lst))           # converting list to set and that set to list\n",
    "\n",
    "sample_list = list(map(int, input(\"Enter a list of numbers: \").strip().split(','))) #taking input from user using strip and split methods to break the string and mapping them to the list\n",
    "print(\"Sample List: \", sample_list)\n",
    "\n",
    "unique_list = unique_list(sample_list) #calling the function\n",
    "print(\"Unique List: \", unique_list)\n"
   ]
  },
  {
   "cell_type": "code",
   "execution_count": 44,
   "id": "5f1298c6",
   "metadata": {},
   "outputs": [
    {
     "name": "stdout",
     "output_type": "stream",
     "text": [
      "No. of Upper-case characters: 3\n",
      "No. of Lower-case Characters:  12\n"
     ]
    }
   ],
   "source": [
    "sentence='The quick Brow Fox'\n",
    "count=0                            #declaring variables to count the uppercase and lowercase letters\n",
    "lcount=0\n",
    "for i in sentence:                 #for loop i holds the each character in the string everytime it itirates it holds the next one\n",
    "    if i.isupper():                #is.upper() checks the whether this char is upper or not\n",
    "        count=count+1\n",
    "    elif i.islower():              #is.lower() checks whether this char is lower or not\n",
    "        lcount=lcount+1\n",
    "print('No. of Upper-case characters: ',count)\n",
    "print('No. of Lower-case Characters: ',lcount)"
   ]
  },
  {
   "cell_type": "code",
   "execution_count": null,
   "id": "2e6122f3",
   "metadata": {},
   "outputs": [],
   "source": []
  }
 ],
 "metadata": {
  "kernelspec": {
   "display_name": "Python 3 (ipykernel)",
   "language": "python",
   "name": "python3"
  },
  "language_info": {
   "codemirror_mode": {
    "name": "ipython",
    "version": 3
   },
   "file_extension": ".py",
   "mimetype": "text/x-python",
   "name": "python",
   "nbconvert_exporter": "python",
   "pygments_lexer": "ipython3",
   "version": "3.9.13"
  }
 },
 "nbformat": 4,
 "nbformat_minor": 5
}
